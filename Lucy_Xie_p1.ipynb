{
 "cells": [
  {
   "cell_type": "markdown",
   "metadata": {},
   "source": [
    "# Project 1: Digit Classification with KNN and Naive Bayes"
   ]
  },
  {
   "cell_type": "markdown",
   "metadata": {},
   "source": [
    "In this project, you'll implement your own image recognition system for classifying digits. Read through the code and the instructions carefully and add your own code where indicated. Each problem can be addressed succinctly with the included packages -- please don't add any more. Grading will be based on writing clean, commented code, along with a few short answers.\n",
    "\n",
    "As always, you're welcome to work on the project in groups and discuss ideas on the course wall, but <b> please prepare your own write-up (with your own code). </b>\n",
    "\n",
    "If you're interested, check out these links related to digit recognition:\n",
    "\n",
    "Yann Lecun's MNIST benchmarks: http://yann.lecun.com/exdb/mnist/\n",
    "\n",
    "Stanford Streetview research and data: http://ufldl.stanford.edu/housenumbers/"
   ]
  },
  {
   "cell_type": "code",
   "execution_count": 253,
   "metadata": {
    "collapsed": false
   },
   "outputs": [],
   "source": [
    "# This tells matplotlib not to try opening a new window for each plot.\n",
    "%matplotlib inline\n",
    "\n",
    "# Import a bunch of libraries.\n",
    "import time\n",
    "import numpy as np\n",
    "import matplotlib.pyplot as plt\n",
    "from matplotlib.ticker import MultipleLocator\n",
    "from sklearn.pipeline import Pipeline\n",
    "from sklearn.datasets import fetch_mldata\n",
    "from sklearn.neighbors import KNeighborsClassifier\n",
    "from sklearn.metrics import confusion_matrix\n",
    "from sklearn.linear_model import LinearRegression\n",
    "from sklearn.naive_bayes import BernoulliNB\n",
    "from sklearn.naive_bayes import MultinomialNB\n",
    "from sklearn.naive_bayes import GaussianNB\n",
    "from sklearn.grid_search import GridSearchCV\n",
    "from sklearn.metrics import classification_report\n",
    "\n",
    "# Set the randomizer seed so results are the same each time.\n",
    "np.random.seed(0)"
   ]
  },
  {
   "cell_type": "markdown",
   "metadata": {},
   "source": [
    "Load the data. Notice that we are splitting the data into training, development, and test. We also have a small subset of the training data called mini_train_data and mini_train_labels that you should use in all the experiments below, unless otherwise noted."
   ]
  },
  {
   "cell_type": "code",
   "execution_count": 269,
   "metadata": {
    "collapsed": false
   },
   "outputs": [
    {
     "name": "stdout",
     "output_type": "stream",
     "text": [
      "data shape:  (70000, 784)\n",
      "label shape: (70000,)\n"
     ]
    }
   ],
   "source": [
    "# Load the digit data either from mldata.org, or once downloaded to data_home, from disk. The data is about 53MB so this cell\n",
    "# should take a while the first time your run it.\n",
    "mnist = fetch_mldata('MNIST original', data_home='~/datasets/mnist')\n",
    "X, Y = mnist.data, mnist.target\n",
    "\n",
    "# Rescale grayscale values to [0,1].\n",
    "X = X / 255.0\n",
    "\n",
    "# Shuffle the input: create a random permutation of the integers between 0 and the number of data points and apply this\n",
    "# permutation to X and Y.\n",
    "# NOTE: Each time you run this cell, you'll re-shuffle the data, resulting in a different ordering.\n",
    "shuffle = np.random.permutation(np.arange(X.shape[0]))\n",
    "X, Y = X[shuffle], Y[shuffle]\n",
    "\n",
    "print('data shape: ', X.shape)\n",
    "print('label shape:', Y.shape)\n",
    "\n",
    "# Set some variables to hold test, dev, and training data.\n",
    "test_data, test_labels = X[61000:], Y[61000:]\n",
    "dev_data, dev_labels = X[60000:61000], Y[60000:61000]\n",
    "train_data, train_labels = X[:60000], Y[:60000]\n",
    "mini_train_data, mini_train_labels = X[:1000], Y[:1000]"
   ]
  },
  {
   "cell_type": "markdown",
   "metadata": {},
   "source": [
    "(1) Create a 10x10 grid to visualize 10 examples of each digit. Python hints:\n",
    "\n",
    "- plt.rc() for setting the colormap, for example to black and white\n",
    "- plt.subplot() for creating subplots\n",
    "- plt.imshow() for rendering a matrix\n",
    "- np.array.reshape() for reshaping a 1D feature vector into a 2D matrix (for rendering)"
   ]
  },
  {
   "cell_type": "code",
   "execution_count": 255,
   "metadata": {
    "collapsed": false,
    "scrolled": true
   },
   "outputs": [
    {
     "data": {
      "image/png": "[encoded data removed]",
      "text/plain": [
       "<matplotlib.figure.Figure at 0x1c0221a9860>"
      ]
     },
     "metadata": {},
     "output_type": "display_data"
    }
   ],
   "source": [
    "def P1(num_examples=10):\n",
    "\n",
    "    # Horizontally stack mini_train_data and mini_train_labels into one array\n",
    "    mini_train = np.column_stack((mini_train_data, mini_train_labels))\n",
    "\n",
    "    # Create an array by looping through mini_train to find \"num_examples\" of each digit    \n",
    "    # Start with a list instead of an array for efficiency\n",
    "    grid_list = []\n",
    "    \n",
    "    # Look for each digit, 0 through 9\n",
    "    for dig in range(0,10):\n",
    "        i = 0\n",
    "        j = 0\n",
    "        \n",
    "        # Use i as a counter to find \"num_examples\" of each digit, and j as a row indicator\n",
    "        while i<num_examples:\n",
    "            if mini_train[j,784]==dig:\n",
    "                grid_list.extend(mini_train[j,0:784])\n",
    "                i+=1\n",
    "            j+=1\n",
    "    \n",
    "    # Reshape the list into an array with 10*num_examples rows and 784 columns\n",
    "    grid = np.asarray(grid_list).reshape(10*num_examples,784)\n",
    "\n",
    "    # Reshape each line of \"grid\" to a 28x28 array and plot using the \"Greys\" colormap to get black-and-white\n",
    "    for row in range(0,grid.shape[0]):\n",
    "        matrix =np.array(grid[row,:]).reshape(28,28)\n",
    "        plt.subplot(10,10, row+1)\n",
    "        \n",
    "        # Remove axes for aesthetics!\n",
    "        plt.axis('off')\n",
    "        plt.imshow(matrix, cmap='Greys')\n",
    "\n",
    "# Run the function with 10 examples\n",
    "P1(10)"
   ]
  },
  {
   "cell_type": "markdown",
   "metadata": {},
   "source": [
    "(2) Evaluate a K-Nearest-Neighbors model with k = [1,3,5,7,9] using the mini training set. Report accuracy on the dev set. For k=1, show precision, recall, and F1 for each label. Which is the most difficult digit?\n",
    "\n",
    "- KNeighborsClassifier() for fitting and predicting\n",
    "- classification_report() for producing precision, recall, F1 results"
   ]
  },
  {
   "cell_type": "code",
   "execution_count": 256,
   "metadata": {
    "collapsed": false
   },
   "outputs": [
    {
     "name": "stdout",
     "output_type": "stream",
     "text": [
      "             precision    recall  f1-score   support\n",
      "\n",
      "        0.0       0.91      0.98      0.94        99\n",
      "        1.0       0.89      1.00      0.94       105\n",
      "        2.0       0.99      0.79      0.88       102\n",
      "        3.0       0.77      0.87      0.82        86\n",
      "        4.0       0.89      0.82      0.85       104\n",
      "        5.0       0.93      0.84      0.88        91\n",
      "        6.0       0.94      0.96      0.95        98\n",
      "        7.0       0.89      0.92      0.90       113\n",
      "        8.0       0.94      0.88      0.91        96\n",
      "        9.0       0.78      0.82      0.80       106\n",
      "\n",
      "avg / total       0.89      0.89      0.89      1000\n",
      "\n"
     ]
    },
    {
     "data": {
      "text/plain": [
       "[0.88800000000000001,\n",
       " 0.878,\n",
       " 0.86899999999999999,\n",
       " 0.86499999999999999,\n",
       " 0.86299999999999999]"
      ]
     },
     "execution_count": 256,
     "metadata": {},
     "output_type": "execute_result"
    }
   ],
   "source": [
    "# Create a function that returns the accuracy score \n",
    "def P2(k_values):\n",
    "    \n",
    "    # Initialize a list of accuracy scores\n",
    "    acc_score = []\n",
    "    \n",
    "    # Loop through each k in k_values\n",
    "    for k in k_values:\n",
    "        \n",
    "        #Initialize and fit the classifier to mini training set\n",
    "        KNN_model = KNeighborsClassifier(k)\n",
    "        KNN_model.fit(mini_train_data, mini_train_labels)\n",
    "        \n",
    "        # Predict labels for the development set\n",
    "        dev_pred = KNN_model.predict(dev_data)\n",
    "\n",
    "        # Calculate accuracy score on development set and add to the acc_score list\n",
    "        # NOTE: Manually calculating accuracy score for this problem, but future problems will use clf.score()\n",
    "        dev_compare = np.equal(dev_pred, dev_labels)\n",
    "        acc = np.sum(dev_compare)/len(dev_compare)\n",
    "        acc_score.append(acc)\n",
    "        \n",
    "        # If k=1, also show precision, recall and F1 for each label\n",
    "        if k==1:\n",
    "            print(classification_report(dev_labels, dev_pred))\n",
    "    \n",
    "    return acc_score\n",
    "\n",
    "k_values = [1, 3, 5, 7, 9]\n",
    "P2(k_values)\n"
   ]
  },
  {
   "cell_type": "markdown",
   "metadata": {},
   "source": [
    "ANSWER: 9 is the most difficult digit, with the lowest f1-score."
   ]
  },
  {
   "cell_type": "markdown",
   "metadata": {},
   "source": [
    "(3) Using k=1, report dev set accuracy for the training set sizes below. Also, measure the amount of time needed for prediction with each training size.\n",
    "\n",
    "- time.time() gives a wall clock value you can use for timing operations"
   ]
  },
  {
   "cell_type": "code",
   "execution_count": 257,
   "metadata": {
    "collapsed": false
   },
   "outputs": [
    {
     "data": {
      "text/plain": [
       "([0.71999999999999997,\n",
       "  0.78300000000000003,\n",
       "  0.83999999999999997,\n",
       "  0.88400000000000001,\n",
       "  0.90200000000000002,\n",
       "  0.92600000000000005,\n",
       "  0.93700000000000006,\n",
       "  0.95899999999999996,\n",
       "  0.96999999999999997],\n",
       " [0.10709071159362793,\n",
       "  0.2101430892944336,\n",
       "  0.48234033584594727,\n",
       "  0.8506014347076416,\n",
       "  1.7602441310882568,\n",
       "  3.51650333404541,\n",
       "  6.979929208755493,\n",
       "  13.970874786376953,\n",
       "  27.545470237731934])"
      ]
     },
     "execution_count": 257,
     "metadata": {},
     "output_type": "execute_result"
    }
   ],
   "source": [
    "def P3(train_sizes, accuracies):\n",
    "\n",
    "#Initialize list of times for each prediction\n",
    "    times = []\n",
    "\n",
    "    for n in train_sizes:\n",
    "    \n",
    "        # Split train_data and train_labels further into subsets of the input size\n",
    "        sub_train_data = train_data[0:n-1]\n",
    "        sub_train_labels = train_labels[0:n-1]\n",
    "\n",
    "        # Create and fit the classifier to the sub-training data, using k=1\n",
    "        KNN_model = KNeighborsClassifier(1)\n",
    "        KNN_model.fit(sub_train_data, sub_train_labels)\n",
    "\n",
    "        # Predict labels for the development set. Also calculate the time taken to predict (in seconds)\n",
    "        start = time.time()\n",
    "        dev_pred = KNN_model.predict(dev_data)\n",
    "        job_time = time.time() - start\n",
    "\n",
    "        # Calculate accuracy score on development set\n",
    "        acc = KNN_model.score(dev_data, dev_labels)\n",
    "\n",
    "        # Add acc_score and job_time to the respective lists \n",
    "        accuracies.append(acc)\n",
    "        times.append(job_time)\n",
    "\n",
    "    return accuracies, times\n",
    "    \n",
    "train_sizes = [100, 200, 400, 800, 1600, 3200, 6400, 12800, 25000]\n",
    "accuracies = []\n",
    "P3(train_sizes, accuracies)"
   ]
  },
  {
   "cell_type": "markdown",
   "metadata": {},
   "source": [
    "(4) Fit a regression model that predicts accuracy from training size. What does it predict for n=60000? What's wrong with using regression here? Can you apply a transformation that makes the predictions more reasonable?\n",
    "\n",
    "- Remember that the sklearn fit() functions take an input matrix X and output vector Y. So each input example in X is a vector, even if it contains only a single value."
   ]
  },
  {
   "cell_type": "code",
   "execution_count": 259,
   "metadata": {
    "collapsed": false
   },
   "outputs": [
    {
     "name": "stdout",
     "output_type": "stream",
     "text": [
      "[[ 1.24471023]]\n",
      "[[ 1.03438305]]\n"
     ]
    }
   ],
   "source": [
    "def P4():\n",
    "    \n",
    "    # Convert train_sizes and accuracies from P3 to arrays and reshape\n",
    "    train = np.array(train_sizes).reshape(9,1)\n",
    "    acc = np.array(accuracies).reshape(9,1)\n",
    "\n",
    "    # Fit the regression model\n",
    "    reg_model = LinearRegression()\n",
    "    reg_model.fit(train, acc)\n",
    "\n",
    "    # Predict n=60000\n",
    "    print(reg_model.predict(60000))\n",
    "\n",
    "    # Try again, but transform the x variable train:\n",
    "    reg_model2 = LinearRegression()\n",
    "    reg_model2.fit(np.log(train), acc)\n",
    "    \n",
    "    # Predict n=60000 with the second model\n",
    "    print(reg_model2.predict(np.log(60000)))\n",
    "\n",
    "P4()"
   ]
  },
  {
   "cell_type": "markdown",
   "metadata": {},
   "source": [
    "ANSWER: The prediction for n=60000 results in the accuracy being greater than 100%, which is not possible, and a straight line does not accurately show the relationship between trainset size and accuracy. Instead we would need to use logistic regression to capture the asymptotic relationship as accuracy approaches 1. The example above still produces an accuracy above 1, so some tweaking or shifting of the curve would still be needed."
   ]
  },
  {
   "cell_type": "markdown",
   "metadata": {},
   "source": [
    "Fit a 1-NN and output a confusion matrix for the dev data. Use the confusion matrix to identify the most confused pair of digits, and display a few example mistakes.\n",
    "\n",
    "- confusion_matrix() produces a confusion matrix"
   ]
  },
  {
   "cell_type": "code",
   "execution_count": 260,
   "metadata": {
    "collapsed": false
   },
   "outputs": [
    {
     "name": "stdout",
     "output_type": "stream",
     "text": [
      "[[ 97   0   0   0   0   0   2   0   0   0]\n",
      " [  0 105   0   0   0   0   0   0   0   0]\n",
      " [  4   4  81   4   0   0   0   4   3   2]\n",
      " [  1   0   0  75   0   3   0   3   1   3]\n",
      " [  0   2   0   0  85   0   3   0   0  14]\n",
      " [  2   0   0   9   0  76   0   1   1   2]\n",
      " [  1   1   1   0   1   0  94   0   0   0]\n",
      " [  1   4   0   1   1   0   0 104   0   2]\n",
      " [  0   2   0   5   0   2   1   0  84   2]\n",
      " [  1   0   0   3   9   1   0   5   0  87]]\n"
     ]
    },
    {
     "data": {
      "image/png": "[encoded data removed]",
      "text/plain": [
       "<matplotlib.figure.Figure at 0x1c01f48e358>"
      ]
     },
     "metadata": {},
     "output_type": "display_data"
    }
   ],
   "source": [
    "def P5():\n",
    "\n",
    "    # Create and fit the classifier to the mini training dataset, using k=1\n",
    "    KNN_model = KNeighborsClassifier(1)\n",
    "    KNN_model.fit(mini_train_data, mini_train_labels)\n",
    "\n",
    "    # Predict labels for the development set\n",
    "    dev_pred = KNN_model.predict(dev_data)\n",
    "\n",
    "    # Output the confusion matrix\n",
    "    print(confusion_matrix(dev_labels, dev_pred))\n",
    "\n",
    "    # Now show a few example mistakes\n",
    "    # Get the indices of digits that were incorrectly predicted\n",
    "    dev_inc_data = dev_data[~np.equal(dev_pred,dev_labels)]\n",
    "    dev_inc_labels = dev_labels[~np.equal(dev_pred,dev_labels)]\n",
    "    dev_inc_pred = dev_pred[~np.equal(dev_pred,dev_labels)]\n",
    "    \n",
    "    # Reshape the first 3 lines of \"dev_inc\" to a 28x28 array and plot using the \"Greys\" colormap to get black-and-white\n",
    "    for row in range(0, 3):\n",
    "        matrix =np.array(dev_inc[row,:]).reshape(28,28)\n",
    "        \n",
    "        # Create subplot of 3 examples of mistakes\n",
    "        ax = plt.subplot(1, 3, row+1)\n",
    "        \n",
    "        # Set the title to show the actual digit vs. the mistakenly predicted digit\n",
    "        title = str(dev_inc_labels[row]) + \" vs \" + str(dev_inc_pred[row])\n",
    "        ax.set_title(title)\n",
    "        \n",
    "        # Remove axes for aesthetics!\n",
    "        ax.axis('off')\n",
    "        ax.imshow(matrix, cmap='Greys')\n",
    "\n",
    "P5()"
   ]
  },
  {
   "cell_type": "markdown",
   "metadata": {},
   "source": [
    "(6) A common image processing technique is to smooth an image by blurring. The idea is that the value of a particular pixel is estimated as the weighted combination of the original value and the values around it. Typically, the blurring is Gaussian -- that is, the weight of a pixel's influence is determined by a Gaussian function over the distance to the relevant pixel.\n",
    "\n",
    "Implement a simplified Gaussian blur by just using the 8 neighboring pixels: the smoothed value of a pixel is a weighted combination of the original value and the 8 neighboring values. Try applying your blur filter in 3 ways:\n",
    "- preprocess the training data but not the dev data\n",
    "- preprocess the dev data but not the training data\n",
    "- preprocess both training and dev data\n",
    "\n",
    "Note that there are Guassian blur filters available, for example in scipy.ndimage.filters. You're welcome to experiment with those, but you are likely to get the best results with the simplified version I described above."
   ]
  },
  {
   "cell_type": "code",
   "execution_count": 270,
   "metadata": {
    "collapsed": false
   },
   "outputs": [
    {
     "name": "stdout",
     "output_type": "stream",
     "text": [
      "Blur training data:  0.877  Blur dev data:  0.834  Blur both:  0.834\n"
     ]
    },
    {
     "data": {
      "image/png": "[encoded data removed]",
      "text/plain": [
       "<matplotlib.figure.Figure at 0x1c01fae73c8>"
      ]
     },
     "metadata": {},
     "output_type": "display_data"
    }
   ],
   "source": [
    "def P6():\n",
    "    \n",
    "    # First define a function that blurs any input dataset\n",
    "    def Gauss_blur(data):\n",
    "        \n",
    "        # Initialize a smoothed array with the same values as the input data \n",
    "        data_blur = data\n",
    "\n",
    "        # Starting with the second row and column, replace the value in that location with the weighted average of the value \n",
    "        # and the 8 surrounding values\n",
    "        # We ignore the outside border since they will not have 8 surrounding pixels, and since the digits hardly touch \n",
    "        # the outside border of pixels\n",
    "        for i in range(1,data.shape[0]-1):\n",
    "            for j in range(1, data.shape[1]-1):\n",
    "                \n",
    "                # Apply half the weight of the value to the original pixel value, and the other half evenly split\n",
    "                # among the surrounding 8 values\n",
    "                data_blur[i,j] = 0.5 * data[i,j] + 0.5 * (data[i-1,j-1]/8 + data[i-1,j]/8 + data[i-1,j+1]/8 + \n",
    "                                                          data[i,j-1]/8 + data[i,j+1]/8 + data[i+1,j-1]/8 + data[i+1,j]/8 +\n",
    "                                                          data[i+1,j+1]/8)\n",
    "\n",
    "        return data_blur\n",
    "\n",
    "# 1. Preprocess the training data but not the dev data\n",
    "    \n",
    "    # Run the mini_train_data through the Gauss_blur function\n",
    "    mini_train_data_blur = Gauss_blur(mini_train_data)\n",
    "\n",
    "    # Fit a classifier to the blurred training data\n",
    "    KNN_model1 = KNeighborsClassifier(1)\n",
    "    KNN_model1.fit(mini_train_data_blur, mini_train_labels)\n",
    "\n",
    "    # Predict labels for the development set\n",
    "    dev_pred1 = KNN_model1.predict(dev_data)\n",
    "\n",
    "    # Calculate accuracy score on development set\n",
    "    acc1 = KNN_model1.score(dev_data, dev_labels)\n",
    "\n",
    "# 2. Preprocess the dev data but not the training data\n",
    "    \n",
    "    # Fit a classifier to the mini training data\n",
    "    KNN_model2 = KNeighborsClassifier(1)\n",
    "    KNN_model2.fit(mini_train_data, mini_train_labels)\n",
    "\n",
    "    # Run the dev_data through the Gauss_blur function\n",
    "    dev_data_blur = Gauss_blur(dev_data)\n",
    "\n",
    "    # Predict labels for the development set\n",
    "    dev_pred2 = KNN_model2.predict(dev_data_blur)\n",
    "\n",
    "    # Calculate accuracy score on development set\n",
    "    acc2 = KNN_model2.score(dev_data_blur, dev_labels)\n",
    "\n",
    "# 3. Preprocess both training and dev data\n",
    "    \n",
    "    # Fit a classifier to the blurred mini training data\n",
    "    KNN_model3 = KNeighborsClassifier(1)\n",
    "    KNN_model3.fit(mini_train_data_blur, mini_train_labels)\n",
    "\n",
    "    # Predict labels for the blurred development set\n",
    "    dev_pred3 = KNN_model3.predict(dev_data_blur)\n",
    "\n",
    "    # Calculate accuracy score on development set\n",
    "    acc3 = KNN_model3.score(dev_data_blur, dev_labels)\n",
    "\n",
    "    print(\"Blur training data: \", acc1, \" Blur dev data: \", acc2, \" Blur both: \", acc3)\n",
    "\n",
    "# Show some examples of the blurred digits\n",
    "    for row in range(0, 3):\n",
    "        matrix =np.array(mini_train_data_blur[row,:]).reshape(28,28)\n",
    "\n",
    "        # Create subplot of 3 examples\n",
    "        ax = plt.subplot(1, 3, row+1)\n",
    "\n",
    "        # Remove axes for aesthetics!\n",
    "        ax.axis('off')\n",
    "        ax.imshow(matrix, cmap='Greys')\n",
    "    \n",
    "P6()"
   ]
  },
  {
   "cell_type": "markdown",
   "metadata": {},
   "source": [
    "ANSWER: The accuracy of blurring only the training data was higher than that of the other two, but sometimes did not meet the accuracy of the raw training data with k=1, depending on the mini_train_data set that was generated. Adjusting the weights of the pixels could improve the accuracy."
   ]
  },
  {
   "cell_type": "markdown",
   "metadata": {},
   "source": [
    "(7) Fit a Naive Bayes classifier and report accuracy on the dev data. Remember that Naive Bayes estimates P(feature|label). While sklearn can handle real-valued features, let's start by mapping the pixel values to either 0 or 1. You can do this as a preprocessing step, or with the binarize argument. With binary-valued features, you can use BernoulliNB. Next try mapping the pixel values to 0, 1, or 2, representing white, grey, or black. This mapping requires MultinomialNB. Does the multi-class version improve the results? Why or why not?"
   ]
  },
  {
   "cell_type": "code",
   "execution_count": 271,
   "metadata": {
    "collapsed": false
   },
   "outputs": [
    {
     "data": {
      "text/plain": [
       "(0.78600000000000003, 0.66900000000000004)"
      ]
     },
     "execution_count": 271,
     "metadata": {},
     "output_type": "execute_result"
    }
   ],
   "source": [
    "def P7():\n",
    "\n",
    "    # Create the binarized BernoulliNB classifier with the binarize argument set to split at 0.5\n",
    "    BNB_model = BernoulliNB(binarize=0.5)\n",
    "    \n",
    "    # Fit the model on full training data and scoore on development data\n",
    "    BNB_model.fit(mini_train_data, mini_train_labels)\n",
    "    acc_BNB = BNB_model.score(dev_data, dev_labels)\n",
    "    \n",
    "    # Now try with MultinomialNB. First we need to map the pixel values to 0, 1 or 2.\n",
    "    # Initialize a new feature array with the same shape as train_data\n",
    "    train_data_MNB = np.zeros(mini_train_data.shape)\n",
    "    \n",
    "    # Loop through each element and classify them as 0, 1 or 2 based on their value in train_data\n",
    "    for i in range(0,mini_train_data.shape[0]):\n",
    "        for j in range(0, mini_train_data.shape[1]):\n",
    "            if mini_train_data[i,j]<=0.33:\n",
    "                train_data_MNB[i,j]=0\n",
    "            elif mini_train_data[i,j]<=0.67:\n",
    "                train_data_MNB[i,j]=1\n",
    "            else:\n",
    "                train_data_MNB[i,j]=2\n",
    "    \n",
    "    # Create the multinomial NB classifier\n",
    "    MNB_model = MultinomialNB()\n",
    "\n",
    "    # Fit the model on the modified training data and score on dev data\n",
    "    MNB_model.fit(train_data_MNB, mini_train_labels)\n",
    "    acc_MNB = MNB_model.score(dev_data, dev_labels)\n",
    "    \n",
    "    # Return the accuracy values of BernoulliNB and MultinomialNB\n",
    "    return acc_BNB, acc_MNB\n",
    "\n",
    "P7()"
   ]
  },
  {
   "cell_type": "markdown",
   "metadata": {},
   "source": [
    "ANSWER: The multinomial NB classifier actually gives a lower accuracy score than binomial in most splits of mini_train_data. This is likely due to the black-and-white, binary nature of the images."
   ]
  },
  {
   "cell_type": "markdown",
   "metadata": {},
   "source": [
    "(8) Use GridSearchCV to perform a search over values of alpha (the Laplace smoothing parameter) in a Bernoulli NB model. What is the best value for alpha? What is the accuracy when alpha=0? Is this what you'd expect?\n",
    "\n",
    "- Note that GridSearchCV partitions the training data so the results will be a bit different than if you used the dev data for evaluation."
   ]
  },
  {
   "cell_type": "code",
   "execution_count": 235,
   "metadata": {
    "collapsed": false
   },
   "outputs": [
    {
     "name": "stdout",
     "output_type": "stream",
     "text": [
      "0.001\n"
     ]
    }
   ],
   "source": [
    "def P8(alphas):\n",
    "\n",
    "    # Initialize a return vector of accuracy scores\n",
    "    acc_alpha = []\n",
    "    \n",
    "    # Loop through each value of alpha and return an accuracy score for each\n",
    "    for a in alphas['alpha']:\n",
    "\n",
    "        #Create the Bernoulli NB classifier, using a as the alpha parameter and continuing to binarize at the 0.5 threshold\n",
    "        BNB_alpha = BernoulliNB(alpha=a, binarize=0.5)\n",
    "\n",
    "        # Fit the model on full training data and score model on dev set. Add value to the return vector\n",
    "        BNB_alpha.fit(mini_train_data, mini_train_labels)\n",
    "        acc_alpha.append(BNB_alpha.score(dev_data, dev_labels))\n",
    "\n",
    "    return acc_alpha\n",
    "\n",
    "# Replaced 0 with 0.00000001 from alpha because it gave me a divide by zero error\n",
    "alphas = {'alpha': [0.00000001, 0.0001, 0.001, 0.01, 0.1, 0.5, 1.0, 2.0, 10.0]}\n",
    "nb = P8(alphas)\n",
    "\n",
    "nb_best_params_ = alphas['alpha'][np.argmax(nb)]\n",
    "print(nb_best_params_)"
   ]
  },
  {
   "cell_type": "markdown",
   "metadata": {},
   "source": [
    "ANSWER: The accuracy of alpha seems to cap off at 85% for values below 0.001 (so any value below 0.001 would give the best accuracy). I would have expected some smoothing to increase the accuracy, but I can infer from the results that minimal smoothing gives higher accuracy of the predictions."
   ]
  },
  {
   "cell_type": "markdown",
   "metadata": {},
   "source": [
    "(9) Try training a model using GuassianNB, which is intended for real-valued features, and evaluate on the dev data. You'll notice that it doesn't work so well. Try to diagnose the problem. You should be able to find a simple fix that returns the accuracy to around the same rate as BernoulliNB. Explain your solution.\n",
    "\n",
    "Hint: examine the parameters estimated by the fit() method, theta\\_ and sigma\\_."
   ]
  },
  {
   "cell_type": "code",
   "execution_count": 288,
   "metadata": {
    "collapsed": false
   },
   "outputs": [
    {
     "name": "stdout",
     "output_type": "stream",
     "text": [
      "0.524\n",
      "0.734\n"
     ]
    }
   ],
   "source": [
    "def P9():\n",
    "\n",
    "    # Fit a GaussianNB model to the mini train data\n",
    "    GNB_model = GaussianNB()\n",
    "    GNB_model.fit(mini_train_data, mini_train_labels)\n",
    "\n",
    "    # Get the accuracy of the model on the dev data\n",
    "    print(GNB_model.score(dev_data, dev_labels))\n",
    "\n",
    "    # Increase the variance of the classifier (sigma) to 1\n",
    "    GNB_model.sigma_ = np.ones(7840).reshape(10,784)\n",
    "\n",
    "    # Get the updated accuracy of the model on the dev data\n",
    "    print(GNB_model.score(dev_data, dev_labels))\n",
    "\n",
    "gnb = P9()"
   ]
  },
  {
   "cell_type": "markdown",
   "metadata": {},
   "source": [
    "ANSWER: Because the Gaussian model assumes the values for each pixel are normally distributed, we must force the variance of the distributions to be large enough that the actual values, which are on the tail ends of 0 and 1, are captured with large enough probability."
   ]
  },
  {
   "cell_type": "markdown",
   "metadata": {},
   "source": [
    "(10) Because Naive Bayes is a generative model, we can use the trained model to generate digits. Train a BernoulliNB model and then generate a 10x20 grid with 20 examples of each digit. Because you're using a Bernoulli model, each pixel output will be either 0 or 1. How do the generated digits compare to the training digits?\n",
    "\n",
    "- You can use np.random.rand() to generate random numbers from a uniform distribution\n",
    "- The estimated probability of each pixel is stored in feature\\_log\\_prob\\_. You'll need to use np.exp() to convert a log probability back to a probability."
   ]
  },
  {
   "cell_type": "code",
   "execution_count": 203,
   "metadata": {
    "collapsed": false
   },
   "outputs": [
    {
     "data": {
      "image/png": "[encoded data removed]",
      "text/plain": [
       "<matplotlib.figure.Figure at 0x1c018612fd0>"
      ]
     },
     "metadata": {},
     "output_type": "display_data"
    }
   ],
   "source": [
    "def P10(num_examples):\n",
    "\n",
    "# Fit the model to training data\n",
    "BNB_gen = BernoulliNB(binarize=0.5)\n",
    "BNB_gen.fit(train_data, train_labels)\n",
    "\n",
    "# Get the probability of each pixel in feature_log_prob_\n",
    "prob = np.exp(BNB_gen.feature_log_prob_)\n",
    "\n",
    "# Loop through each class (digit) and generate 20 examples of feature inputs for each digit\n",
    "gen_list = []\n",
    "for i in range(0,prob.shape[0]):\n",
    "    \n",
    "    # Create 20 examples\n",
    "    for j in range(0,20):\n",
    "        \n",
    "        # Loop through each of the 784 pixels\n",
    "        for k in range(0, prob.shape[1]):\n",
    "            \n",
    "            # Use the probability from the BNB_gen model to choose either 0 or 1 for the pixel value, then add to gen_list\n",
    "            rand = np.random.choice([0,1],p=[1-prob[i][k], prob[i][k]])\n",
    "            gen_list.append(rand)\n",
    "            \n",
    "# Reshape the list to an array of 200x784            \n",
    "gen = np.asarray(gen_list).reshape(200,784)\n",
    "\n",
    "# Reshape each line of \"gen\" to a 28x28 array and plot using the \"Greys\" colormap to get black-and-white\n",
    "for row in range(0,gen.shape[0]):\n",
    "    matrix2 =np.array(gen[row,:]).reshape(28,28)\n",
    "    plt.subplot(10,20, row+1)\n",
    "\n",
    "    # Remove axes for aesthetics!\n",
    "    plt.axis('off')\n",
    "    plt.imshow(matrix2, cmap='Greys')   \n",
    "\n",
    "P10(20)"
   ]
  },
  {
   "cell_type": "markdown",
   "metadata": {},
   "source": [
    "ANSWER: The images aren't as clear, but I can make out each number generated by the model. There are some digits (particularly between 8 and 9) where, if I were to create another model out of this generated data, the resulting accuracy would be very low."
   ]
  },
  {
   "cell_type": "markdown",
   "metadata": {},
   "source": [
    "(11) Remember that a strongly calibrated classifier is rougly 90% accurate when the posterior probability of the predicted class is 0.9. A weakly calibrated classifier is more accurate when the posterior is 90% than when it is 80%. A poorly calibrated classifier has no positive correlation between posterior and accuracy.\n",
    "\n",
    "Train a BernoulliNB model with a reasonable alpha value. For each posterior bucket (think of a bin in a histogram), you want to estimate the classifier's accuracy. So for each prediction, find the bucket the maximum posterior belongs to and update the \"correct\" and \"total\" counters.\n",
    "\n",
    "How would you characterize the calibration for the Naive Bayes model?"
   ]
  },
  {
   "cell_type": "code",
   "execution_count": 328,
   "metadata": {
    "collapsed": false
   },
   "outputs": [
    {
     "name": "stdout",
     "output_type": "stream",
     "text": [
      "p(pred) <= 0.5000000000000    total =   4    accuracy = 0.500\n",
      "p(pred) <= 0.9000000000000    total =  78    accuracy = 0.333\n",
      "p(pred) <= 0.9990000000000    total = 100    accuracy = 0.510\n",
      "p(pred) <= 0.9999900000000    total =  99    accuracy = 0.545\n",
      "p(pred) <= 0.9999999000000    total =  96    accuracy = 0.760\n",
      "p(pred) <= 0.9999999990000    total =  87    accuracy = 0.782\n",
      "p(pred) <= 0.9999999999900    total =  55    accuracy = 0.873\n",
      "p(pred) <= 0.9999999999999    total =  64    accuracy = 0.938\n",
      "p(pred) <= 1.0000000000000    total = 417    accuracy = 0.969\n"
     ]
    }
   ],
   "source": [
    "def P11(buckets, correct, total):\n",
    "    \n",
    "    BNB_post = BernoulliNB(alpha=1.0, binarize=0.5)\n",
    "    BNB_post.fit(mini_train_data, mini_train_labels)\n",
    "\n",
    "    # Get the posterior probabilities on dev_data\n",
    "    post = BNB_post.predict_proba(dev_data)\n",
    "\n",
    "    # Loop through each sample in the posteriors\n",
    "    for row in range(0,post.shape[0]):\n",
    "\n",
    "        # Get the max posterior probability in that row\n",
    "        max_post = np.max(post[row])\n",
    "\n",
    "        # Find the bin where the max posterior probability fits\n",
    "        for i in range(len(buckets)):\n",
    "            \n",
    "            # Starting with the lowest bucket, if the probability is <= that bucket, add 1 to the total counter and\n",
    "            # break the for loop (move on to the next sample)\n",
    "            if max_post<=buckets[i] :\n",
    "                \n",
    "                # If that row correctly predicted the digit, also add 1 to the correct counter\n",
    "                if np.argmax(post[row])==dev_labels[row]:\n",
    "                    correct[i]+=1\n",
    "                total[i]+=1\n",
    "                \n",
    "                # Break and move on to the next row so this row doesn't get counted twice\n",
    "                break\n",
    "\n",
    "    return correct, total\n",
    "\n",
    "buckets = [0.5, 0.9, 0.999, 0.99999, 0.9999999, 0.999999999, 0.99999999999, 0.9999999999999, 1.0]\n",
    "correct = [0 for i in buckets]\n",
    "total = [0 for i in buckets]\n",
    "\n",
    "P11(buckets, correct, total)\n",
    "\n",
    "for i in range(len(buckets)):\n",
    "    accuracy = 0.0\n",
    "    if (total[i] > 0): accuracy = correct[i] / total[i]\n",
    "    print('p(pred) <= %.13f    total = %3d    accuracy = %.3f' %(buckets[i], total[i], accuracy))"
   ]
  },
  {
   "cell_type": "markdown",
   "metadata": {},
   "source": [
    "ANSWER: Since almost half the samples end up with a posterior probability of 1 and are accurately predicted 96.9% of the time, I would say this is a strongly calibrated classifier."
   ]
  },
  {
   "cell_type": "markdown",
   "metadata": {},
   "source": [
    "(12) EXTRA CREDIT\n",
    "\n",
    "Try designing extra features to see if you can improve the performance of Naive Bayes on the dev set. Here are a few ideas to get you started:\n",
    "- Try summing the pixel values in each row and each column.\n",
    "- Try counting the number of enclosed regions; 8 usually has 2 enclosed regions, 9 usually has 1, and 7 usually has 0.\n",
    "\n",
    "Make sure you comment your code well!"
   ]
  },
  {
   "cell_type": "code",
   "execution_count": 335,
   "metadata": {
    "collapsed": false
   },
   "outputs": [
    {
     "data": {
      "text/plain": [
       "0.39800000000000002"
      ]
     },
     "execution_count": 335,
     "metadata": {},
     "output_type": "execute_result"
    },
    {
     "data": {
      "image/png": "[encoded data removed]",
      "text/plain": [
       "<matplotlib.figure.Figure at 0x1c031bf0080>"
      ]
     },
     "metadata": {},
     "output_type": "display_data"
    }
   ],
   "source": [
    "def P12():\n",
    "\n",
    "    # Try summing the pixel values in each row and column as the features\n",
    "    mini_train_sums = []\n",
    "    \n",
    "    # Calculate the sums of the rows and the columns for eachh digit\n",
    "    for i in range(mini_train_data.shape[0]):\n",
    "        pix = mini_train_data[i].reshape(28,28)\n",
    "        row_sums = np.sum(pix, axis=1) \n",
    "        col_sums = np.sum(pix, axis=0)\n",
    "        mini_train_sums.append(row_sums)\n",
    "        mini_train_sums.append(col_sums)\n",
    "\n",
    "    # Reshape mini_train_sums to have 56 features (28 row sums, 28 col sums)\n",
    "    mini_train_sums = np.asarray(mini_train_sums).reshape(mini_train_data.shape[0],56)\n",
    "\n",
    "    # Examine the histogram of mini_train_sums to determine a good binarize point. although there really isn't one\n",
    "    plt.hist(mini_train_sums)\n",
    "\n",
    "    # Train a Bernoulli Naive Bayes classifier with the binarization at 2.5. Use low alpha to reduce smoothing\n",
    "    BNB_sum = BernoulliNB(alpha=0.001, binarize=2.5)\n",
    "    BNB_sum.fit(mini_train_sums, mini_train_labels)\n",
    "\n",
    "    # Sum the pixel values in dev_data and predict the labels\n",
    "    dev_sums = []\n",
    "    \n",
    "    for i in range(dev_data.shape[0]):\n",
    "        pix = dev_data[i].reshape(28,28)\n",
    "        row_sums = np.sum(pix, axis=1) \n",
    "        col_sums = np.sum(pix, axis=0)\n",
    "        dev_sums.append(row_sums)\n",
    "        dev_sums.append(col_sums)\n",
    "\n",
    "    # Reshape dev_sums to have 56 features\n",
    "    dev_sums = np.asarray(dev_sums).reshape(dev_data.shape[0],56)\n",
    "    \n",
    "    # Calcualte the accuracy of the model on dev_sums\n",
    "    BNB_sum.score(dev_sums, dev_labels)\n",
    "\n",
    "    # Ultimately the accuracy was still very low due to the binarization of the sums. MultinomialNB may do a better job.\n",
    "    \n",
    "P12()"
   ]
  }
 ],
 "metadata": {
  "kernelspec": {
   "display_name": "Python 3",
   "language": "python",
   "name": "python3"
  },
  "language_info": {
   "codemirror_mode": {
    "name": "ipython",
    "version": 3
   },
   "file_extension": ".py",
   "mimetype": "text/x-python",
   "name": "python",
   "nbconvert_exporter": "python",
   "pygments_lexer": "ipython3",
   "version": "3.6.0"
  }
 },
 "nbformat": 4,
 "nbformat_minor": 0
}
